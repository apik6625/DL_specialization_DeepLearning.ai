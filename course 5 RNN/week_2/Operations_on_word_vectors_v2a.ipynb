{
 "cells": [
  {
   "cell_type": "markdown",
   "metadata": {
    "id": "YTNn4zzAJWhA"
   },
   "source": [
    "# Operations on Word Vectors\n",
    "\n",
    "Welcome to your first assignment of Week 2, Course 5 of the Deep Learning Specialization! \n",
    "\n",
    "Because word embeddings are very computationally expensive to train, most ML practitioners will load a pre-trained set of embeddings. In this notebook you'll try your hand at loading, measuring similarity between, and modifying pre-trained embeddings. \n",
    "\n",
    "**After this assignment you'll be able to**:\n",
    "\n",
    "* Explain how word embeddings capture relationships between words\n",
    "* Load pre-trained word vectors\n",
    "* Measure similarity between word vectors using cosine similarity\n",
    "* Use word embeddings to solve word analogy problems such as Man is to Woman as King is to ______.  \n",
    "\n",
    "At the end of this notebook you'll have a chance to try an optional exercise, where you'll modify word embeddings to reduce their gender bias. Reducing bias is an important consideration in ML, so you're encouraged to take this challenge!  \n",
    "\n",
    "## Important Note on Submission to the AutoGrader\n",
    "\n",
    "Before submitting your assignment to the AutoGrader, please make sure you are not doing the following:\n",
    "\n",
    "1. You have not added any _extra_ `print` statement(s) in the assignment.\n",
    "2. You have not added any _extra_ code cell(s) in the assignment.\n",
    "3. You have not changed any of the function parameters.\n",
    "4. You are not using any global variables inside your graded exercises. Unless specifically instructed to do so, please refrain from it and use the local variables instead.\n",
    "5. You are not changing the assignment code where it is not required, like creating _extra_ variables.\n",
    "\n",
    "If you do any of the following, you will get something like, `Grader Error: Grader feedback not found` (or similarly unexpected) error upon submitting your assignment. Before asking for help/debugging the errors in your assignment, check for these first. If this is the case, and you don't remember the changes you have made, you can get a fresh copy of the assignment by following these [instructions](https://www.coursera.org/learn/nlp-sequence-models/supplement/qHIve/h-ow-to-refresh-your-workspace)."
   ]
  },
  {
   "cell_type": "markdown",
   "metadata": {},
   "source": [
    "## Table of Contents\n",
    "\n",
    "- [Packages](#0)\n",
    "- [1 - Load the Word Vectors](#1)\n",
    "- [2 - Embedding Vectors Versus One-Hot Vectors](#2)\n",
    "- [3 - Cosine Similarity](#3)\n",
    "    - [Exercise 1 - cosine_similarity](#ex-1)\n",
    "- [4 - Word Analogy Task](#4)\n",
    "    - [Exercise 2 - complete_analogy](#ex-2)\n",
    "- [5 - Debiasing Word Vectors (OPTIONAL/UNGRADED)](#5)\n",
    "    - [5.1 - Neutralize Bias for Non-Gender Specific Words](#5-1)\n",
    "        - [Exercise 3 - neutralize](#ex-3)\n",
    "    - [5.2 - Equalization Algorithm for Gender-Specific Words](#5-2)\n",
    "        - [Exercise 4 - equalize](#ex-4)\n",
    "- [6 - References](#6)"
   ]
  },
  {
   "cell_type": "markdown",
   "metadata": {
    "id": "ZNlGgfN1JWhL"
   },
   "source": [
    "<a name='0'></a>\n",
    "## Packages\n",
    "\n",
    "Let's get started! Run the following cell to load the packages you'll need."
   ]
  },
  {
   "cell_type": "code",
   "execution_count": 1,
   "metadata": {
    "deletable": false,
    "editable": false
   },
   "outputs": [],
   "source": [
    "### v1.1"
   ]
  },
  {
   "cell_type": "code",
   "execution_count": 2,
   "metadata": {
    "id": "cWEywjgpJWhM",
    "outputId": "6b0b856a-d05d-4a6d-ba94-01d247254f20"
   },
   "outputs": [],
   "source": [
    "import numpy as np\n",
    "from w2v_utils import *"
   ]
  },
  {
   "cell_type": "markdown",
   "metadata": {
    "id": "D-CfRQ86JWhN"
   },
   "source": [
    "<a name='1'></a>\n",
    "## 1 - Load the Word Vectors\n",
    "\n",
    "For this assignment, you'll use 50-dimensional GloVe vectors to represent words. \n",
    "Run the following cell to load the `word_to_vec_map`. "
   ]
  },
  {
   "cell_type": "code",
   "execution_count": 3,
   "metadata": {
    "id": "xCsAgH3dJWhO"
   },
   "outputs": [],
   "source": [
    "words, word_to_vec_map = read_glove_vecs('data/glove.6B.50d.txt')"
   ]
  },
  {
   "cell_type": "markdown",
   "metadata": {
    "id": "cF9bim0eJWhO"
   },
   "source": [
    "You've loaded:\n",
    "- `words`: set of words in the vocabulary.\n",
    "- `word_to_vec_map`: dictionary mapping words to their GloVe vector representation.\n",
    "\n",
    "<a name='2'></a>\n",
    "## 2 - Embedding Vectors Versus One-Hot Vectors\n",
    "Recall from the lesson videos that one-hot vectors don't do a good job of capturing the level of similarity between words. This is because every one-hot vector has the same Euclidean distance from any other one-hot vector.\n",
    "\n",
    "Embedding vectors, such as GloVe vectors, provide much more useful information about the meaning of individual words.  \n",
    "Now, see how you can use GloVe vectors to measure the similarity between two words! "
   ]
  },
  {
   "cell_type": "markdown",
   "metadata": {
    "id": "xZBg2QwSJWhO"
   },
   "source": [
    "<a name='3'></a>\n",
    "## 3 - Cosine Similarity\n",
    "\n",
    "To measure the similarity between two words, you need a way to measure the degree of similarity between two embedding vectors for the two words. Given two vectors $u$ and $v$, cosine similarity is defined as follows: \n",
    "\n",
    "$$\\text{CosineSimilarity(u, v)} = \\frac {u \\cdot v} {||u||_2 ||v||_2} = cos(\\theta) \\tag{1}$$\n",
    "\n",
    "* $u \\cdot v$ is the dot product (or inner product) of two vectors\n",
    "* $||u||_2$ is the norm (or length) of the vector $u$\n",
    "* $\\theta$ is the angle between $u$ and $v$. \n",
    "* The cosine similarity depends on the angle between $u$ and $v$. \n",
    "    * If $u$ and $v$ are very similar, their cosine similarity will be close to 1.\n",
    "    * If they are dissimilar, the cosine similarity will take a smaller value. \n",
    "\n",
    "<img src=\"images/cosine_sim.png\" style=\"width:800px;height:250px;\">\n",
    "<caption><center><font color='purple'><b>Figure 1</b>: The cosine of the angle between two vectors is a measure of their similarity.</font></center></caption>\n",
    "\n",
    "<a name='ex-1'></a>\n",
    "### Exercise 1 - cosine_similarity\n",
    "\n",
    "Implement the function `cosine_similarity()` to evaluate the similarity between word vectors.\n",
    "\n",
    "**Reminder**: The norm of $u$ is defined as $ ||u||_2 = \\sqrt{\\sum_{i=1}^{n} u_i^2}$\n",
    "\n",
    "#### Additional Hints\n",
    "* You may find [np.dot](https://numpy.org/doc/stable/reference/generated/numpy.dot.html), [np.sum](https://numpy.org/doc/stable/reference/generated/numpy.sum.html), or [np.sqrt](https://numpy.org/doc/stable/reference/generated/numpy.sqrt.html) useful depending upon the implementation that you choose."
   ]
  },
  {
   "cell_type": "code",
   "execution_count": 4,
   "metadata": {
    "id": "mNjuTQ5JJWhP"
   },
   "outputs": [],
   "source": [
    "# UNQ_C1 (UNIQUE CELL IDENTIFIER, DO NOT EDIT)\n",
    "# GRADED FUNCTION: cosine_similarity\n",
    "\n",
    "def cosine_similarity(u, v):\n",
    "    \"\"\"\n",
    "    Cosine similarity reflects the degree of similarity between u and v\n",
    "        \n",
    "    Arguments:\n",
    "        u -- a word vector of shape (n,)          \n",
    "        v -- a word vector of shape (n,)\n",
    "\n",
    "    Returns:\n",
    "        cosine_similarity -- the cosine similarity between u and v defined by the formula above.\n",
    "    \"\"\"\n",
    "    \n",
    "    # Special case. Consider the case u = [0, 0], v=[0, 0]\n",
    "    if np.all(u == v):\n",
    "        return 1\n",
    "    \n",
    "    ### START CODE HERE ###\n",
    "    # Compute the dot product between u and v (≈1 line)\n",
    "    dot = np.dot(u, v) \n",
    "    # Compute the L2 norm of u (≈1 line)\n",
    "    norm_u = np.sqrt(np.sum(u**2))\n",
    "    \n",
    "    # Compute the L2 norm of v (≈1 line)\n",
    "    norm_v = np.sqrt(np.sum(v**2))\n",
    "    \n",
    "    # Avoid division by 0\n",
    "    if np.isclose(norm_u * norm_v, 0, atol=1e-32):\n",
    "        return 0\n",
    "    \n",
    "    # Compute the cosine similarity defined by formula (1) (≈1 line)\n",
    "    cosine_similarity = dot/(norm_u * norm_v)\n",
    "    ### END CODE HERE ###\n",
    "    \n",
    "    return cosine_similarity"
   ]
  },
  {
   "cell_type": "code",
   "execution_count": 5,
   "metadata": {
    "colab": {
     "base_uri": "https://localhost:8080/"
    },
    "id": "nqH8_-3BJWhP",
    "outputId": "9454fe42-80ca-4b40-ea23-69ebac038fae"
   },
   "outputs": [
    {
     "name": "stdout",
     "output_type": "stream",
     "text": [
      "cosine_similarity(father, mother) =  0.8909038442893615\n",
      "cosine_similarity(ball, crocodile) =  0.2743924626137942\n",
      "cosine_similarity(france - paris, rome - italy) =  -0.6751479308174201\n",
      "\u001b[92mAll test passed!\n"
     ]
    }
   ],
   "source": [
    "# START SKIP FOR GRADING\n",
    "father = word_to_vec_map[\"father\"]\n",
    "mother = word_to_vec_map[\"mother\"]\n",
    "ball = word_to_vec_map[\"ball\"]\n",
    "crocodile = word_to_vec_map[\"crocodile\"]\n",
    "france = word_to_vec_map[\"france\"]\n",
    "italy = word_to_vec_map[\"italy\"]\n",
    "paris = word_to_vec_map[\"paris\"]\n",
    "rome = word_to_vec_map[\"rome\"]\n",
    "\n",
    "print(\"cosine_similarity(father, mother) = \", cosine_similarity(father, mother))\n",
    "print(\"cosine_similarity(ball, crocodile) = \",cosine_similarity(ball, crocodile))\n",
    "print(\"cosine_similarity(france - paris, rome - italy) = \",cosine_similarity(france - paris, rome - italy))\n",
    "# END SKIP FOR GRADING\n",
    "\n",
    "# PUBLIC TESTS\n",
    "def cosine_similarity_test(target):\n",
    "    a = np.random.uniform(-10, 10, 10)\n",
    "    b = np.random.uniform(-10, 10, 10)\n",
    "    c = np.random.uniform(-1, 1, 23)\n",
    "        \n",
    "    assert np.isclose(cosine_similarity(a, a), 1), \"cosine_similarity(a, a) must be 1\"\n",
    "    assert np.isclose(cosine_similarity((c >= 0) * 1, (c < 0) * 1), 0), \"cosine_similarity(a, not(a)) must be 0\"\n",
    "    assert np.isclose(cosine_similarity(a, -a), -1), \"cosine_similarity(a, -a) must be -1\"\n",
    "    assert np.isclose(cosine_similarity(a, b), cosine_similarity(a * 2, b * 4)), \"cosine_similarity must be scale-independent. You must divide by the product of the norms of each input\"\n",
    "\n",
    "    print(\"\\033[92mAll test passed!\")\n",
    "    \n",
    "cosine_similarity_test(cosine_similarity)"
   ]
  },
  {
   "cell_type": "markdown",
   "metadata": {
    "id": "FX8fHEBxJWhQ"
   },
   "source": [
    "#### Try different words!\n",
    "\n",
    "After you get the correct expected output, please feel free to modify the inputs and measure the cosine similarity between other pairs of words! Playing around with the cosine similarity of other inputs will give you a better sense of how word vectors behave."
   ]
  },
  {
   "cell_type": "markdown",
   "metadata": {
    "id": "63Pjp_QSJWhQ"
   },
   "source": [
    "<a name='4'></a>\n",
    "## 4 - Word Analogy Task\n",
    "\n",
    "* In the word analogy task, complete this sentence:  \n",
    "    <font color='brown'>\"*a* is to *b* as *c* is to **____**\"</font>. \n",
    "\n",
    "* An example is:  \n",
    "    <font color='brown'> '*man* is to *woman* as *king* is to *queen*' </font>. \n",
    "\n",
    "* You're trying to find a word *d*, such that the associated word vectors $e_a, e_b, e_c, e_d$ are related in the following manner:   \n",
    "    $e_b - e_a \\approx e_d - e_c$\n",
    "* Measure the similarity between $e_b - e_a$ and $e_d - e_c$ using cosine similarity. \n",
    "\n",
    "<a name='ex-2'></a>\n",
    "### Exercise 2 - complete_analogy\n",
    "\n",
    "Complete the code below to perform word analogies!"
   ]
  },
  {
   "cell_type": "code",
   "execution_count": 6,
   "metadata": {
    "id": "kGBV3yoQJWhS"
   },
   "outputs": [],
   "source": [
    "# UNQ_C2 (UNIQUE CELL IDENTIFIER, DO NOT EDIT)\n",
    "# GRADED FUNCTION: complete_analogy\n",
    "\n",
    "def complete_analogy(word_a, word_b, word_c, word_to_vec_map):\n",
    "    \"\"\"\n",
    "    Performs the word analogy task as explained above: a is to b as c is to ____. \n",
    "    \n",
    "    Arguments:\n",
    "    word_a -- a word, string\n",
    "    word_b -- a word, string\n",
    "    word_c -- a word, string\n",
    "    word_to_vec_map -- dictionary that maps words to their corresponding vectors. \n",
    "    \n",
    "    Returns:\n",
    "    best_word --  the word such that v_b - v_a is close to v_best_word - v_c, as measured by cosine similarity\n",
    "    \"\"\"\n",
    "    \n",
    "    # convert words to lowercase\n",
    "    word_a, word_b, word_c = word_a.lower(), word_b.lower(), word_c.lower()\n",
    "    \n",
    "    ### START CODE HERE ###\n",
    "    # Get the word embeddings e_a, e_b and e_c (≈1-3 lines)\n",
    "    e_a, e_b, e_c = word_to_vec_map.get(word_a),word_to_vec_map.get(word_b), word_to_vec_map.get(word_c)\n",
    "    ### END CODE HERE ###\n",
    "    print(e_a, e_b, e_c)\n",
    "    words = word_to_vec_map.keys()\n",
    "    max_cosine_sim = -100              # Initialize max_cosine_sim to a large negative number\n",
    "    best_word = None                   # Initialize best_word with None, it will help keep track of the word to output\n",
    "    \n",
    "    # loop over the whole word vector set\n",
    "    for w in words:   \n",
    "        # to avoid best_word being one the input words, skip the input word_c\n",
    "        # skip word_c from query\n",
    "        if w == word_c:\n",
    "            continue\n",
    "        \n",
    "        ### START CODE HERE ###\n",
    "        # Compute cosine similarity between the vector (e_b - e_a) and the vector ((w's vector representation) - e_c)  (≈1 line)\n",
    "        cosine_sim = cosine_similarity(np.subtract(e_b, e_a), np.subtract(word_to_vec_map.get(w), e_c))\n",
    "        \n",
    "        # If the cosine_sim is more than the max_cosine_sim seen so far,\n",
    "            # then: set the new max_cosine_sim to the current cosine_sim and the best_word to the current word (≈3 lines)\n",
    "        if cosine_sim > max_cosine_sim:\n",
    "            max_cosine_sim = cosine_sim\n",
    "            best_word = w\n",
    "        ### END CODE HERE ###\n",
    "        \n",
    "    return best_word"
   ]
  },
  {
   "cell_type": "code",
   "execution_count": 7,
   "metadata": {},
   "outputs": [
    {
     "name": "stdout",
     "output_type": "stream",
     "text": [
      "[3 3] [2 4] [-2  1]\n",
      "[3 3] [3 2] [-2  1]\n",
      "[3 3] [3 3] [-2  1]\n",
      "[3 3] [-2  1] [3 3]\n",
      "\u001b[92mAll tests passed\n"
     ]
    }
   ],
   "source": [
    "# PUBLIC TEST\n",
    "def complete_analogy_test(target):\n",
    "    a = [3, 3] # Center at a\n",
    "    a_nw = [2, 4] # North-West oriented vector from a\n",
    "    a_s = [3, 2] # South oriented vector from a\n",
    "    \n",
    "    c = [-2, 1] # Center at c\n",
    "    # Create a controlled word to vec map\n",
    "    word_to_vec_map = {'a': a,\n",
    "                       'synonym_of_a': a,\n",
    "                       'a_nw': a_nw, \n",
    "                       'a_s': a_s, \n",
    "                       'c': c, \n",
    "                       'c_n': [-2, 2], # N\n",
    "                       'c_ne': [-1, 2], # NE\n",
    "                       'c_e': [-1, 1], # E\n",
    "                       'c_se': [-1, 0], # SE\n",
    "                       'c_s': [-2, 0], # S\n",
    "                       'c_sw': [-3, 0], # SW\n",
    "                       'c_w': [-3, 1], # W\n",
    "                       'c_nw': [-3, 2] # NW\n",
    "                      }\n",
    "    \n",
    "    # Convert lists to np.arrays\n",
    "    for key in word_to_vec_map.keys():\n",
    "        word_to_vec_map[key] = np.array(word_to_vec_map[key])\n",
    "            \n",
    "    assert(target('a', 'a_nw', 'c', word_to_vec_map) == 'c_nw')\n",
    "    assert(target('a', 'a_s', 'c', word_to_vec_map) == 'c_s')\n",
    "    assert(target('a', 'synonym_of_a', 'c', word_to_vec_map) != 'c'), \"Best word cannot be input query\"\n",
    "    assert(target('a', 'c', 'a', word_to_vec_map) == 'c')\n",
    "\n",
    "    print(\"\\033[92mAll tests passed\")\n",
    "    \n",
    "complete_analogy_test(complete_analogy)"
   ]
  },
  {
   "cell_type": "markdown",
   "metadata": {
    "id": "vnJJ_2sQJWhT"
   },
   "source": [
    "Run the cell below to test your code. Patience, young grasshopper...this may take 1-2 minutes."
   ]
  },
  {
   "cell_type": "code",
   "execution_count": 8,
   "metadata": {},
   "outputs": [
    {
     "name": "stdout",
     "output_type": "stream",
     "text": [
      "[ 1.7704    -0.77758   -0.95302    0.329      0.040391  -0.086352\n",
      " -0.096326  -0.14525   -0.85415   -0.091315   0.71825   -0.8378\n",
      " -0.71724   -0.30078    1.2588    -0.72728   -0.26415   -0.17469\n",
      " -0.57705    0.335     -0.51533   -0.43223   -0.80174    0.94644\n",
      "  0.0098356 -1.3264     0.59604   -0.12843   -1.0187     0.25605\n",
      "  2.6086     0.87975   -0.30444    0.31701   -0.66136   -0.15968\n",
      " -0.28717    1.4486    -0.6017    -0.64794    0.37924    0.18643\n",
      "  1.2729    -1.2207    -0.20923    1.1948    -0.18      -0.35325\n",
      "  0.44488   -0.83675  ] [ 1.3249   -0.72295  -1.4014   -0.038929  0.31079  -0.029466 -0.73726\n",
      " -0.26476  -1.5154    0.17862   0.90742  -0.47018  -0.19712   0.51508\n",
      "  0.97645  -1.7018   -0.68926   0.72521  -0.55985  -0.15008  -0.3136\n",
      "  0.11762  -1.0012    1.1083   -0.21998  -1.2775   -0.17973  -0.10399\n",
      " -1.207     0.76172   2.7922   -0.23252  -0.46951   0.66419  -0.29245\n",
      "  0.41382  -0.40453   1.0008   -0.33376  -0.51774   0.94343   0.41602\n",
      "  1.1146   -0.93192   0.32985   0.22213  -0.4394    0.15883   0.8059\n",
      " -0.72778 ] [ 1.1595   0.21344 -0.36298  1.0122  -0.18473 -0.30199 -0.35055  0.8532\n",
      " -0.71617  0.35008  1.1401  -0.58245 -0.33837 -0.36144  1.1036  -0.85338\n",
      " -0.37948 -1.2075  -0.44249  0.10017 -1.0162  -0.76619 -0.6012   0.76406\n",
      " -0.20989 -1.0587   0.4871  -0.63722 -0.35631  0.30415  2.6428   0.52948\n",
      " -0.64095  0.11115 -0.44187 -0.54406 -0.67595  0.69745 -0.37146 -0.19252\n",
      "  0.54152  0.29873  1.4091  -1.291   -0.57823  0.52369 -0.44592 -0.61992\n",
      "  0.56161 -0.94449]\n",
      "italy -> italian :: spain -> spanish\n",
      "[-0.20356  -0.8707   -0.19172   0.73862   0.18494   0.14926   0.48079\n",
      " -0.21633   0.72753  -0.36912   0.13397  -0.1143   -0.18075  -0.64683\n",
      " -0.18484   0.83575   0.48179   0.76026  -0.50381   0.80743   1.2195\n",
      "  0.3459    0.22185   0.31335   1.2066   -1.8441    0.14064  -0.99715\n",
      " -1.1402    0.32342   3.2128    0.42708   0.19504   0.80113   0.38555\n",
      " -0.12568  -0.26533   0.055264 -1.1557    0.16836  -0.82228   0.20394\n",
      "  0.089235 -0.60125  -0.032878  1.3735   -0.51661   0.29611   0.23951\n",
      " -1.3801  ] [ 0.18214  -0.28351  -0.25541   0.22921  -0.44429  -0.54475   0.67721\n",
      " -0.27654   0.068624 -0.69132  -0.31098  -0.53566  -0.32012  -0.40935\n",
      " -0.34238   1.4787   -0.034364  1.088    -0.39671   1.2663    1.8232\n",
      "  0.97568   0.18346   0.55456   0.62986  -1.5467    0.34259  -0.29705\n",
      " -1.2019    0.01831   1.7297    0.54533  -0.08473   0.15328   0.72879\n",
      "  0.050399  0.48308  -0.26805  -0.54156   0.97152  -0.9383    0.35984\n",
      " -0.30545  -0.10968  -0.069992  0.78156  -0.27464   0.50171   0.42222\n",
      " -1.1253  ] [-0.31739  -0.14033   0.32292   1.072     0.33008   0.39406  -0.016682\n",
      "  0.076903 -0.74591  -0.31521   1.0033   -0.12659   0.063252  0.64006\n",
      "  0.70721   0.84303  -0.68832   0.47214  -0.66002   0.73962   1.1116\n",
      " -0.89428  -0.90364  -0.47281   0.88529  -2.0194    0.30623  -0.31662\n",
      " -0.44423  -0.52139   3.0287    0.70315   0.92315   0.52263  -0.62674\n",
      " -0.58995  -0.15876  -0.078332 -1.0794   -0.71552  -1.2764   -0.85554\n",
      "  1.2827   -1.2134    1.0125    0.40329  -0.16276   0.99117   0.031016\n",
      " -0.35431 ]\n",
      "india -> delhi :: japan -> tokyo\n",
      "[-0.094386  0.43007  -0.17224  -0.45529   1.6447    0.40335  -0.37263\n",
      "  0.25071  -0.10588   0.10778  -0.10848   0.15181  -0.65396   0.55054\n",
      "  0.59591  -0.46278   0.11847   0.64448  -0.70948   0.23947  -0.82905\n",
      "  1.272     0.033021  0.2935    0.3911   -2.8094   -0.70745   0.4106\n",
      "  0.3894   -0.2913    2.6124   -0.34576  -0.16832   0.25154   0.31216\n",
      "  0.31639   0.12539  -0.012646  0.22297  -0.56585  -0.086264  0.62549\n",
      " -0.0576    0.29375   0.66005  -0.53115  -0.48233  -0.97925   0.53135\n",
      " -0.11725 ] [-1.8153e-01  6.4827e-01 -5.8210e-01 -4.9451e-01  1.5415e+00  1.3450e+00\n",
      " -4.3305e-01  5.8059e-01  3.5556e-01 -2.5184e-01  2.0254e-01 -7.1643e-01\n",
      "  3.0610e-01  5.6127e-01  8.3928e-01 -3.8085e-01 -9.0875e-01  4.3326e-01\n",
      " -1.4436e-02  2.3725e-01 -5.3799e-01  1.7773e+00 -6.6433e-02  6.9795e-01\n",
      "  6.9291e-01 -2.6739e+00 -7.6805e-01  3.3929e-01  1.9695e-01 -3.5245e-01\n",
      "  2.2920e+00 -2.7411e-01 -3.0169e-01  8.5286e-04  1.6923e-01  9.1433e-02\n",
      " -2.3610e-02  3.6236e-02  3.4488e-01 -8.3947e-01 -2.5174e-01  4.2123e-01\n",
      "  4.8616e-01  2.2325e-02  5.5760e-01 -8.5223e-01 -2.3073e-01 -1.3138e+00\n",
      "  4.8764e-01 -1.0467e-01] [-0.32345   0.23332  -0.20082  -0.52848   1.0926    0.62445  -0.99859\n",
      "  0.28085   0.088326  0.36919   0.32199   0.3499    0.067459  0.24211\n",
      "  0.92565  -0.32581  -0.99134   0.80767  -0.22845   0.40076  -0.8577\n",
      "  1.3836    0.056439  0.76561   0.3608   -2.0692   -0.46679   0.12359\n",
      "  0.35127  -0.77092   2.2064   -0.42605  -0.24279   0.3832    0.6069\n",
      "  0.62835   0.31825  -0.8851    0.38329  -1.146    -0.41949   0.2606\n",
      " -0.6568   -0.11511   1.0591   -0.61148   0.32152  -1.3182    0.31744\n",
      "  0.02527 ]\n",
      "man -> woman :: boy -> girl\n",
      "[ 1.1419     0.21621    0.05988   -0.22087    0.721      0.55394\n",
      " -0.85043   -0.27485    0.0788    -0.54447   -0.16458   -0.39355\n",
      "  0.94567    0.3132    -0.57388    0.006172   0.51563    0.59235\n",
      " -0.5439    -1.1097     0.13733   -0.66901   -0.16584    0.44869\n",
      " -0.42889   -1.1225    -0.43607    0.55676    0.39962   -0.25964\n",
      "  3.8543    -0.33091    0.38144    0.059943   0.19653    0.50617\n",
      " -0.41123    0.16168    0.1503    -0.061063  -0.0063997  0.1881\n",
      " -0.037663   0.29605    0.46124    0.0066039 -0.30738   -0.64137\n",
      " -0.058311  -0.45848  ] [ 1.1998   -0.23055   0.69906  -0.1176    0.36606   0.57779  -0.62184\n",
      " -0.6137   -0.41405  -0.24856   0.14361  -0.56083   0.68587   0.43607\n",
      " -0.55022   0.40384   0.26088   0.26201  -0.45767  -1.3575    0.16209\n",
      " -1.1499   -0.012015  0.36464  -0.71587  -0.41222  -0.39604   0.10225\n",
      "  0.13425  -0.14918   3.4935    0.38427   0.69106  -0.096564  0.27325\n",
      " -0.20039  -0.54823   0.14732  -0.46445  -0.022909 -0.2768   -0.039195\n",
      "  0.34513   0.50713  -0.072703 -0.097248 -0.2894   -0.24848  -0.3833\n",
      " -0.23238 ] [ 1.1303    0.28035   0.15825  -0.36373   0.63884   0.40727  -0.6041\n",
      " -0.38511   0.12849  -0.4438   -0.25311  -0.36961   1.016     0.27822\n",
      " -0.4178    0.016858  0.55661   0.3856   -0.57398  -1.0437    0.50172\n",
      " -1.1141   -0.19099  -0.11988  -0.75892  -1.0916   -0.46073   0.61686\n",
      "  0.34421   0.078685  3.8287   -0.32661   0.50127  -0.26291  -0.16509\n",
      "  0.69122  -0.41489   0.19888  -0.071731 -0.18805  -0.026401  0.14917\n",
      "  0.028164  0.33275   0.41858  -0.020588 -0.62518  -0.40942  -0.23624\n",
      " -0.65003 ]\n",
      "small -> smaller :: large -> smaller\n"
     ]
    }
   ],
   "source": [
    "# START SKIP FOR GRADING\n",
    "triads_to_try = [('italy', 'italian', 'spain'), ('india', 'delhi', 'japan'), ('man', 'woman', 'boy'), ('small', 'smaller', 'large')]\n",
    "for triad in triads_to_try:\n",
    "    print ('{} -> {} :: {} -> {}'.format( *triad, complete_analogy(*triad, word_to_vec_map)))\n",
    "\n",
    "# END SKIP FOR GRADING"
   ]
  },
  {
   "cell_type": "markdown",
   "metadata": {
    "id": "41Ozkp_-JWhV"
   },
   "source": [
    "Once you get the output, try modifying the input cells above to test your own analogies. \n",
    "\n",
    "**Hint**: Try to find some other analogy pairs that will work, along with some others where the algorithm doesn't give the right answer:\n",
    "    * For example, you can try small->smaller as big->?"
   ]
  },
  {
   "cell_type": "markdown",
   "metadata": {},
   "source": [
    "## Congratulations!\n",
    "\n",
    "You've come to the end of the graded portion of the assignment. By now, you've: \n",
    "\n",
    "* Loaded some pre-trained word vectors\n",
    "* Measured the similarity between word vectors using cosine similarity\n",
    "* Used word embeddings to solve word analogy problems such as Man is to Woman as King is to __.\n",
    "\n",
    "Cosine similarity is a relatively simple and intuitive, yet powerful, method you can use to capture nuanced relationships between words. These exercises should be helpful to you in explaining how it works, and applying it to your own projects!  "
   ]
  },
  {
   "cell_type": "markdown",
   "metadata": {
    "id": "3nK_lD7mJWhV"
   },
   "source": [
    "<font color='blue'>\n",
    "    <b>What you should remember</b>:\n",
    "\n",
    "- Cosine similarity is a good way to compare the similarity between pairs of word vectors.\n",
    "    - Note that L2 (Euclidean) distance also works.\n",
    "- For NLP applications, using a pre-trained set of word vectors is often a great way to get started. </font>\n",
    "\n",
    "Even though you've finished the graded portion, please take a look at the rest of this notebook to learn about debiasing word vectors."
   ]
  },
  {
   "cell_type": "markdown",
   "metadata": {
    "id": "HMRD25MuJWhW"
   },
   "source": [
    "<a name='5'></a>\n",
    "## 5 - Debiasing Word Vectors (OPTIONAL/UNGRADED) "
   ]
  },
  {
   "cell_type": "markdown",
   "metadata": {
    "id": "9Q1w3ZpEJWhW"
   },
   "source": [
    "In the following exercise, you'll examine gender biases that can be reflected in a word embedding, and explore algorithms for reducing the bias. In addition to learning about the topic of debiasing, this exercise will also help hone your intuition about what word vectors are doing. This section involves a bit of linear algebra, though you can certainly complete it without being an expert! Go ahead and give it a shot. This portion of the notebook is optional and is not graded...so just have fun and explore.  \n",
    "\n",
    "First, see how the GloVe word embeddings relate to gender. You'll begin by computing a vector $g = e_{woman}-e_{man}$, where $e_{woman}$ represents the word vector corresponding to the word *woman*, and $e_{man}$ corresponds to the word vector corresponding to the word *man*. The resulting vector $g$ roughly encodes the concept of \"gender\". \n",
    "\n",
    "You might get a more accurate representation if you compute $g_1 = e_{mother}-e_{father}$, $g_2 = e_{girl}-e_{boy}$, etc. and average over them, but just using $e_{woman}-e_{man}$ will give good enough results for now.\n"
   ]
  },
  {
   "cell_type": "code",
   "execution_count": 9,
   "metadata": {
    "id": "_qpU-C3KJWhW"
   },
   "outputs": [
    {
     "name": "stdout",
     "output_type": "stream",
     "text": [
      "[-0.087144    0.2182     -0.40986    -0.03922    -0.1032      0.94165\n",
      " -0.06042     0.32988     0.46144    -0.35962     0.31102    -0.86824\n",
      "  0.96006     0.01073     0.24337     0.08193    -1.02722    -0.21122\n",
      "  0.695044   -0.00222     0.29106     0.5053     -0.099454    0.40445\n",
      "  0.30181     0.1355     -0.0606     -0.07131    -0.19245    -0.06115\n",
      " -0.3204      0.07165    -0.13337    -0.25068714 -0.14293    -0.224957\n",
      " -0.149       0.048882    0.12191    -0.27362    -0.165476   -0.20426\n",
      "  0.54376    -0.271425   -0.10245    -0.32108     0.2516     -0.33455\n",
      " -0.04371     0.01258   ]\n"
     ]
    }
   ],
   "source": [
    "g = word_to_vec_map['woman'] - word_to_vec_map['man']\n",
    "print(g)"
   ]
  },
  {
   "cell_type": "markdown",
   "metadata": {
    "id": "ORIvi0s1JWhX"
   },
   "source": [
    "Now, consider the cosine similarity of different words with $g$. What does a positive value of similarity mean, versus a negative cosine similarity? "
   ]
  },
  {
   "cell_type": "code",
   "execution_count": 10,
   "metadata": {
    "id": "TgqV6pDxJWhX",
    "scrolled": false
   },
   "outputs": [
    {
     "name": "stdout",
     "output_type": "stream",
     "text": [
      "List of names and their similarities with constructed vector:\n",
      "john -0.23163356145973724\n",
      "marie 0.315597935396073\n",
      "sophie 0.3186878985941878\n",
      "ronaldo -0.31244796850329437\n",
      "priya 0.17632041839009402\n",
      "rahul -0.16915471039231722\n",
      "danielle 0.24393299216283895\n",
      "reza -0.07930429672199553\n",
      "katy 0.2831068659572615\n",
      "yasmin 0.23313857767928753\n"
     ]
    }
   ],
   "source": [
    "print ('List of names and their similarities with constructed vector:')\n",
    "\n",
    "# girls and boys name\n",
    "name_list = ['john', 'marie', 'sophie', 'ronaldo', 'priya', 'rahul', 'danielle', 'reza', 'katy', 'yasmin']\n",
    "\n",
    "for w in name_list:\n",
    "    print (w, cosine_similarity(word_to_vec_map[w], g))"
   ]
  },
  {
   "cell_type": "markdown",
   "metadata": {
    "id": "YLELp0LJJWhY"
   },
   "source": [
    "As you can see, female first names tend to have a positive cosine similarity with our constructed vector $g$, while male first names tend to have a negative cosine similarity. This is not surprising, and the result seems acceptable. \n",
    "\n",
    "Now try with some other words:"
   ]
  },
  {
   "cell_type": "code",
   "execution_count": null,
   "metadata": {
    "id": "wgadfCaGJWhY"
   },
   "outputs": [],
   "source": [
    "print('Other words and their similarities:')\n",
    "word_list = ['lipstick', 'guns', 'science', 'arts', 'literature', 'warrior','doctor', 'tree', 'receptionist', \n",
    "             'technology',  'fashion', 'teacher', 'engineer', 'pilot', 'computer', 'singer']\n",
    "for w in word_list:\n",
    "    print (w, cosine_similarity(word_to_vec_map[w], g))"
   ]
  },
  {
   "cell_type": "markdown",
   "metadata": {
    "id": "YUzfNtq4JWhY"
   },
   "source": [
    "Do you notice anything surprising? It is astonishing how these results reflect certain unhealthy gender stereotypes. For example, we see “computer” is negative and is closer in value to male first names, while “literature” is positive and is closer to female first names. Ouch! \n",
    "\n",
    "You'll see below how to reduce the bias of these vectors, using an algorithm due to [Boliukbasi et al., 2016](https://arxiv.org/abs/1607.06520). Note that some word pairs such as \"actor\"/\"actress\" or \"grandmother\"/\"grandfather\" should remain gender-specific, while other words such as \"receptionist\" or \"technology\" should be neutralized, i.e. not be gender-related. You'll have to treat these two types of words differently when debiasing.\n",
    "\n",
    "<a name='5-1'></a>\n",
    "### 5.1 - Neutralize Bias for Non-Gender Specific Words \n",
    "\n",
    "The figure below should help you visualize what neutralizing does. If you're using a 50-dimensional word embedding, the 50 dimensional space can be split into two parts: The bias-direction $g$, and the remaining 49 dimensions, which is called $g_{\\perp}$ here. In linear algebra, we say that the 49-dimensional $g_{\\perp}$ is perpendicular (or \"orthogonal\") to $g$, meaning it is at 90 degrees to $g$. The neutralization step takes a vector such as $e_{receptionist}$ and zeros out the component in the direction of $g$, giving us $e_{receptionist}^{debiased}$. \n",
    "\n",
    "Even though $g_{\\perp}$ is 49-dimensional, given the limitations of what you can draw on a 2D screen, it's illustrated using a 1-dimensional axis below. \n",
    "\n",
    "<img src=\"images/neutral.png\" style=\"width:800px;height:300px;\">\n",
    "<caption><center><font color='purple'><b>Figure 2</b>: The word vector for \"receptionist\" represented before and after applying the neutralize operation.</font> </center></caption>\n",
    "\n",
    "<a name='ex-3'></a>\n",
    "### Exercise 3 - neutralize\n",
    "\n",
    "Implement `neutralize()` to remove the bias of words such as \"receptionist\" or \"scientist.\"\n",
    "\n",
    "Given an input embedding $e$, you can use the following formulas to compute $e^{debiased}$: \n",
    "\n",
    "$$e^{bias\\_component} = \\frac{e \\cdot g}{||g||_2^2} * g\\tag{2}$$\n",
    "$$e^{debiased} = e - e^{bias\\_component}\\tag{3}$$\n",
    "\n",
    "If you are an expert in linear algebra, you may recognize $e^{bias\\_component}$ as the projection of $e$ onto the direction $g$. If you're not an expert in linear algebra, don't worry about this. ;)\n",
    "\n",
    "**Note:** The [paper](https://papers.nips.cc/paper/6228-man-is-to-computer-programmer-as-woman-is-to-homemaker-debiasing-word-embeddings.pdf), which the debiasing algorithm is from, assumes all word vectors to have L2 norm as 1 and hence the need for the calculations below:"
   ]
  },
  {
   "cell_type": "code",
   "execution_count": 12,
   "metadata": {},
   "outputs": [
    {
     "name": "stderr",
     "output_type": "stream",
     "text": [
      "100%|██████████| 400000/400000 [00:04<00:00, 85417.00it/s]\n"
     ]
    }
   ],
   "source": [
    "# The paper assumes all word vectors to have L2 norm as 1 and hence the need for this calculation\n",
    "from tqdm import tqdm\n",
    "word_to_vec_map_unit_vectors = {\n",
    "    word: embedding / np.linalg.norm(embedding)\n",
    "    for word, embedding in tqdm(word_to_vec_map.items())\n",
    "}\n",
    "g_unit = word_to_vec_map_unit_vectors['woman'] - word_to_vec_map_unit_vectors['man']"
   ]
  },
  {
   "cell_type": "code",
   "execution_count": 39,
   "metadata": {
    "id": "79Pk0QDhJWhZ"
   },
   "outputs": [],
   "source": [
    "def neutralize(word, g, word_to_vec_map):\n",
    "    \"\"\"\n",
    "    Removes the bias of \"word\" by projecting it on the space orthogonal to the bias axis. \n",
    "    This function ensures that gender neutral words are zero in the gender subspace.\n",
    "    \n",
    "    Arguments:\n",
    "        word -- string indicating the word to debias\n",
    "        g -- numpy-array of shape (50,), corresponding to the bias axis (such as gender)\n",
    "        word_to_vec_map -- dictionary mapping words to their corresponding vectors.\n",
    "    \n",
    "    Returns:\n",
    "        e_debiased -- neutralized word vector representation of the input \"word\"\n",
    "    \"\"\"\n",
    "    \n",
    "    ### START CODE HERE ###\n",
    "    # Select word vector representation of \"word\". Use word_to_vec_map. (≈ 1 line)\n",
    "    e = word_to_vec_map['word']\n",
    "    \n",
    "    # Compute e_biascomponent using the formula given above. (≈ 1 line)\n",
    "    e_biascomponent = np.multiply(np.dot(e, g)/np.square(np.linalg.norm(g, ord=2)),g)\n",
    " \n",
    "    # Neutralize e by subtracting e_biascomponent from it \n",
    "    # e_debiased should be equal to its orthogonal projection. (≈ 1 line)\n",
    "    e_debiased = np.subtract(e, e_biascomponent)\n",
    "    ### END CODE HERE ###\n",
    "    \n",
    "    return e_debiased"
   ]
  },
  {
   "cell_type": "code",
   "execution_count": 40,
   "metadata": {
    "id": "6PgkxwxXJWhZ"
   },
   "outputs": [
    {
     "name": "stdout",
     "output_type": "stream",
     "text": [
      "cosine similarity between receptionist and g, before neutralizing:  0.3307794175059374\n",
      "cosine similarity between receptionist and g_unit, after neutralizing:  -2.1311201906372457e-18\n"
     ]
    }
   ],
   "source": [
    "word = \"receptionist\"\n",
    "print(\"cosine similarity between \" + word + \" and g, before neutralizing: \", cosine_similarity(word_to_vec_map[word], g))\n",
    "\n",
    "e_debiased = neutralize(word, g_unit, word_to_vec_map_unit_vectors)\n",
    "print(\"cosine similarity between \" + word + \" and g_unit, after neutralizing: \", cosine_similarity(e_debiased, g_unit))"
   ]
  },
  {
   "cell_type": "markdown",
   "metadata": {
    "id": "Da--RZGIJWha"
   },
   "source": [
    "**Expected Output**: The second result is essentially 0, up to numerical rounding (on the order of $10^{-17}$).\n",
    "\n",
    "\n",
    "<table>\n",
    "    <tr>\n",
    "        <td>\n",
    "            <b>cosine similarity between receptionist and g, before neutralizing:</b> :\n",
    "        </td>\n",
    "        <td>\n",
    "         0.3307794175059374\n",
    "        </td>\n",
    "    </tr>\n",
    "        <tr>\n",
    "        <td>\n",
    "            <b>cosine similarity between receptionist and g_unit, after neutralizing</b> :\n",
    "        </td>\n",
    "        <td>\n",
    "         3.5723165491646677e-17\n",
    "    </tr>\n",
    "</table>"
   ]
  },
  {
   "cell_type": "markdown",
   "metadata": {
    "id": "ciATgxwLJWha"
   },
   "source": [
    "<a name='5-2'></a>\n",
    "### 5.2 - Equalization Algorithm for Gender-Specific Words\n",
    "\n",
    "Next, let's see how debiasing can also be applied to word pairs such as \"actress\" and \"actor.\" Equalization is applied to pairs of words that you might want to have differ only through the gender property. As a concrete example, suppose that \"actress\" is closer to \"babysit\" than \"actor.\" By applying neutralization to \"babysit,\" you can reduce the gender stereotype associated with babysitting. But this still does not guarantee that \"actor\" and \"actress\" are equidistant from \"babysit.\" The equalization algorithm takes care of this. \n",
    "\n",
    "The key idea behind equalization is to make sure that a particular pair of words are equidistant from the 49-dimensional $g_\\perp$. The equalization step also ensures that the two equalized steps are now the same distance from $e_{receptionist}^{debiased}$, or from any other work that has been neutralized. Visually, this is how equalization works: \n",
    "\n",
    "<img src=\"images/equalize10.png\" style=\"width:800px;height:400px;\">\n",
    "\n",
    "\n",
    "The derivation of the linear algebra to do this is a bit more complex. (See Bolukbasi et al., 2016 in the References for details.) Here are the key equations: \n",
    "\n",
    "\n",
    "$$ \\mu = \\frac{e_{w1} + e_{w2}}{2}\\tag{4}$$ \n",
    "\n",
    "$$ \\mu_{B} = \\frac {\\mu \\cdot \\text{bias_axis}}{||\\text{bias_axis}||_2^2} *\\text{bias_axis}\n",
    "\\tag{5}$$ \n",
    "\n",
    "$$\\mu_{\\perp} = \\mu - \\mu_{B} \\tag{6}$$\n",
    "\n",
    "$$ e_{w1B} = \\frac {e_{w1} \\cdot \\text{bias_axis}}{||\\text{bias_axis}||_2^2} *\\text{bias_axis}\n",
    "\\tag{7}$$ \n",
    "$$ e_{w2B} = \\frac {e_{w2} \\cdot \\text{bias_axis}}{||\\text{bias_axis}||_2^2} *\\text{bias_axis}\n",
    "\\tag{8}$$\n",
    "\n",
    "\n",
    "$$e_{w1B}^{corrected} = \\sqrt{{1 - ||\\mu_{\\perp} ||^2_2}} * \\frac{e_{\\text{w1B}} - \\mu_B} {||e_{w1B} - \\mu_B||_2} \\tag{9}$$\n",
    "\n",
    "\n",
    "$$e_{w2B}^{corrected} = \\sqrt{{1 - ||\\mu_{\\perp} ||^2_2}} * \\frac{e_{\\text{w2B}} - \\mu_B} {||e_{w2B} - \\mu_B||_2} \\tag{10}$$\n",
    "\n",
    "$$e_1 = e_{w1B}^{corrected} + \\mu_{\\perp} \\tag{11}$$\n",
    "$$e_2 = e_{w2B}^{corrected} + \\mu_{\\perp} \\tag{12}$$\n",
    "\n",
    "\n",
    "<a name='ex-4'></a>\n",
    "### Exercise 4 - equalize\n",
    "\n",
    "Implement the `equalize()` function below. \n",
    "\n",
    "Use the equations above to get the final equalized version of the pair of words. Good luck!\n",
    "\n",
    "**Hint**\n",
    "- Use [np.linalg.norm](https://numpy.org/doc/stable/reference/generated/numpy.linalg.norm.html)"
   ]
  },
  {
   "cell_type": "code",
   "execution_count": null,
   "metadata": {
    "id": "aBhxJtGIJWha"
   },
   "outputs": [],
   "source": [
    "def equalize(pair, bias_axis, word_to_vec_map):\n",
    "    \"\"\"\n",
    "    Debias gender specific words by following the equalize method described in the figure above.\n",
    "    \n",
    "    Arguments:\n",
    "    pair -- pair of strings of gender specific words to debias, e.g. (\"actress\", \"actor\") \n",
    "    bias_axis -- numpy-array of shape (50,), vector corresponding to the bias axis, e.g. gender\n",
    "    word_to_vec_map -- dictionary mapping words to their corresponding vectors\n",
    "    \n",
    "    Returns\n",
    "    e_1 -- word vector corresponding to the first word\n",
    "    e_2 -- word vector corresponding to the second word\n",
    "    \"\"\"\n",
    "    \n",
    "    ### START CODE HERE ###\n",
    "    # Step 1: Select word vector representation of \"word\". Use word_to_vec_map. (≈ 2 lines)\n",
    "    w1, w2 = None\n",
    "    e_w1, e_w2 = None\n",
    "    \n",
    "    # Step 2: Compute the mean of e_w1 and e_w2 (≈ 1 line)\n",
    "    mu = None\n",
    "\n",
    "    # Step 3: Compute the projections of mu over the bias axis and the orthogonal axis (≈ 2 lines)\n",
    "    mu_B = None\n",
    "    mu_orth = None\n",
    "\n",
    "    # Step 4: Use equations (7) and (8) to compute e_w1B and e_w2B (≈2 lines)\n",
    "    e_w1B = None\n",
    "    e_w2B = None\n",
    "        \n",
    "    # Step 5: Adjust the Bias part of e_w1B and e_w2B using the formulas (9) and (10) given above (≈2 lines)\n",
    "    corrected_e_w1B = None\n",
    "    corrected_e_w2B = None\n",
    "\n",
    "    # Step 6: Debias by equalizing e1 and e2 to the sum of their corrected projections (≈2 lines)\n",
    "    e1 = None\n",
    "    e2 = None\n",
    "                                                                \n",
    "    ### END CODE HERE ###\n",
    "    \n",
    "    return e1, e2"
   ]
  },
  {
   "cell_type": "code",
   "execution_count": null,
   "metadata": {
    "id": "P405J5ZSJWhb",
    "scrolled": true
   },
   "outputs": [],
   "source": [
    "print(\"cosine similarities before equalizing:\")\n",
    "print(\"cosine_similarity(word_to_vec_map[\\\"man\\\"], gender) = \", cosine_similarity(word_to_vec_map[\"man\"], g))\n",
    "print(\"cosine_similarity(word_to_vec_map[\\\"woman\\\"], gender) = \", cosine_similarity(word_to_vec_map[\"woman\"], g))\n",
    "print()\n",
    "e1, e2 = equalize((\"man\", \"woman\"), g_unit, word_to_vec_map_unit_vectors)\n",
    "print(\"cosine similarities after equalizing:\")\n",
    "print(\"cosine_similarity(e1, gender) = \", cosine_similarity(e1, g_unit))\n",
    "print(\"cosine_similarity(e2, gender) = \", cosine_similarity(e2, g_unit))"
   ]
  },
  {
   "cell_type": "markdown",
   "metadata": {
    "id": "5cNhiOEaJWhb"
   },
   "source": [
    "**Expected Output**:\n",
    "\n",
    "cosine similarities before equalizing:\n",
    "<table>\n",
    "    <tr>\n",
    "        <td>\n",
    "            <b>cosine_similarity(word_to_vec_map[\"man\"], gender)</b> =\n",
    "        </td>\n",
    "        <td>\n",
    "         -0.11711095765336832\n",
    "        </td>\n",
    "    </tr>\n",
    "        <tr>\n",
    "        <td>\n",
    "            <b>cosine_similarity(word_to_vec_map[\"woman\"], gender)</b> =\n",
    "        </td>\n",
    "        <td>\n",
    "         0.35666618846270376\n",
    "        </td>\n",
    "    </tr>\n",
    "</table>\n",
    "\n",
    "cosine similarities after equalizing:\n",
    "<table>\n",
    "    <tr>\n",
    "        <td>\n",
    "            <b>cosine_similarity(e1, gender)</b> =\n",
    "        </td>\n",
    "        <td>\n",
    "         -0.23871136142883795\n",
    "        </td>\n",
    "    </tr>\n",
    "        <tr>\n",
    "        <td>\n",
    "            <b>cosine_similarity(e2, gender)</b> =\n",
    "        </td>\n",
    "        <td>\n",
    "         0.23871136142883792\n",
    "        </td>\n",
    "    </tr>\n",
    "</table>"
   ]
  },
  {
   "cell_type": "markdown",
   "metadata": {
    "id": "mXi96ToSJWhc"
   },
   "source": [
    "Go ahead and play with the input words in the cell above, to apply equalization to other pairs of words. \n",
    "\n",
    "Hint: Try...\n",
    "\n",
    "These debiasing algorithms are very helpful for reducing bias, but aren't perfect and don't eliminate all traces of bias. For example, one weakness of this implementation was that the bias direction $g$ was defined using only the pair of words _woman_ and _man_. As discussed earlier, if $g$ were defined by computing $g_1 = e_{woman} - e_{man}$; $g_2 = e_{mother} - e_{father}$; $g_3 = e_{girl} - e_{boy}$; and so on and averaging over them, you would obtain a better estimate of the \"gender\" dimension in the 50 dimensional word embedding space. Feel free to play with these types of variants as well! "
   ]
  },
  {
   "cell_type": "markdown",
   "metadata": {
    "id": "DDjEdbzuJWhd"
   },
   "source": [
    "### Congratulations!\n",
    "\n",
    "You have come to the end of both graded and ungraded portions of this notebook, and have seen several of the ways that word vectors can be applied and  modified. Great work pushing your knowledge in the areas of neutralizing and equalizing word vectors! See you next time."
   ]
  },
  {
   "cell_type": "markdown",
   "metadata": {
    "id": "FY2ZhorNJWhd"
   },
   "source": [
    "<a name='6'></a>\n",
    "## 6 - References\n",
    "\n",
    "- The debiasing algorithm is from Bolukbasi et al., 2016, [Man is to Computer Programmer as Woman is to\n",
    "Homemaker? Debiasing Word Embeddings](https://papers.nips.cc/paper/6228-man-is-to-computer-programmer-as-woman-is-to-homemaker-debiasing-word-embeddings.pdf)\n",
    "- The GloVe word embeddings were due to Jeffrey Pennington, Richard Socher, and Christopher D. Manning. (https://nlp.stanford.edu/projects/glove/)\n"
   ]
  },
  {
   "cell_type": "code",
   "execution_count": null,
   "metadata": {},
   "outputs": [],
   "source": []
  }
 ],
 "metadata": {
  "coursera": {
   "schema_names": [
    "DLSC5W2-A1"
   ]
  },
  "kernelspec": {
   "display_name": "Python 3",
   "language": "python",
   "name": "python3"
  },
  "language_info": {
   "codemirror_mode": {
    "name": "ipython",
    "version": 3
   },
   "file_extension": ".py",
   "mimetype": "text/x-python",
   "name": "python",
   "nbconvert_exporter": "python",
   "pygments_lexer": "ipython3",
   "version": "3.7.6"
  }
 },
 "nbformat": 4,
 "nbformat_minor": 1
}
